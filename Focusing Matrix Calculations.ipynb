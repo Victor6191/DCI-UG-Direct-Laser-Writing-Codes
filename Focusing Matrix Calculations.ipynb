{
 "cells": [
  {
   "cell_type": "code",
   "execution_count": 1,
   "metadata": {},
   "outputs": [],
   "source": [
    "import numpy as np\n",
    "from sympy import *"
   ]
  },
  {
   "cell_type": "code",
   "execution_count": 36,
   "metadata": {},
   "outputs": [],
   "source": [
    "theta1 = symbols('t1')\n",
    "phi = symbols('p')\n",
    "theta2 = symbols('t2')\n",
    "ts = symbols('ts')\n",
    "tp = symbols('tp')\n",
    "R = Matrix([[cos(phi),sin(phi),0],[-sin(phi),cos(phi),0],[0,0,1]])\n",
    "C = Matrix([[cos(theta1),0,sin(theta1)],[0,1,0],[-sin(theta1),0,cos(theta1)]])\n",
    "R_1 = Matrix([[cos(phi),-sin(phi),0],[sin(phi),cos(phi),0],[0,0,1]])\n",
    "T1 = R_1*C*R"
   ]
  },
  {
   "cell_type": "code",
   "execution_count": 37,
   "metadata": {},
   "outputs": [
    {
     "data": {
      "text/plain": [
       "Matrix([\n",
       "[        sin(p)**2 + cos(p)**2*cos(t1), sin(p)*cos(p)*cos(t1) - sin(p)*cos(p), sin(t1)*cos(p)],\n",
       "[sin(p)*cos(p)*cos(t1) - sin(p)*cos(p),         sin(p)**2*cos(t1) + cos(p)**2, sin(p)*sin(t1)],\n",
       "[                      -sin(t1)*cos(p),                       -sin(p)*sin(t1),        cos(t1)]])"
      ]
     },
     "execution_count": 37,
     "metadata": {},
     "output_type": "execute_result"
    }
   ],
   "source": [
    "T1"
   ]
  },
  {
   "cell_type": "code",
   "execution_count": 42,
   "metadata": {},
   "outputs": [],
   "source": [
    "L2 = Matrix([[cos(theta2),0,-sin(theta2)],[0,1,0],[sin(theta2),0,cos(theta2)]])\n",
    "L1 = Matrix([[cos(theta1),0,-sin(theta1)],[0,1,0],[sin(theta1),0,cos(theta1)]])\n",
    "#ts = (2*sin(theta2)*cos(theta1))/sin(theta1+theta2)\n",
    "#tp = (2*sin(theta2)*cos(theta1))/(sin(theta1+theta2)*cos(theta1-theta2))\n",
    "I = Matrix([[tp,0,0],[0,ts,0],[0,0,tp]])\n",
    "L2_1 = Matrix([[cos(theta2),0,sin(theta2)],[0,1,0],[-sin(theta2),0,cos(theta2)]])\n",
    "T2 = L2_1*I*L1"
   ]
  },
  {
   "cell_type": "code",
   "execution_count": 43,
   "metadata": {},
   "outputs": [
    {
     "data": {
      "text/plain": [
       "Matrix([\n",
       "[tp*sin(t1)*sin(t2) + tp*cos(t1)*cos(t2),  0, -tp*sin(t1)*cos(t2) + tp*sin(t2)*cos(t1)],\n",
       "[                                      0, ts,                                        0],\n",
       "[tp*sin(t1)*cos(t2) - tp*sin(t2)*cos(t1),  0,  tp*sin(t1)*sin(t2) + tp*cos(t1)*cos(t2)]])"
      ]
     },
     "execution_count": 43,
     "metadata": {},
     "output_type": "execute_result"
    }
   ],
   "source": [
    "T2"
   ]
  }
 ],
 "metadata": {
  "kernelspec": {
   "display_name": "Python 3",
   "language": "python",
   "name": "python3"
  },
  "language_info": {
   "codemirror_mode": {
    "name": "ipython",
    "version": 3
   },
   "file_extension": ".py",
   "mimetype": "text/x-python",
   "name": "python",
   "nbconvert_exporter": "python",
   "pygments_lexer": "ipython3",
   "version": "3.7.3"
  }
 },
 "nbformat": 4,
 "nbformat_minor": 2
}
